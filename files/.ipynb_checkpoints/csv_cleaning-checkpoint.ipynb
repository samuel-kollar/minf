{
 "cells": [
  {
   "cell_type": "code",
   "execution_count": 1,
   "metadata": {},
   "outputs": [],
   "source": [
    "import struct\n",
    "import matplotlib.pyplot as plt\n",
    "import matplotlib.image as mpimg\n",
    "import numpy as np\n",
    "import cv2\n",
    "import pandas as pd\n",
    "import csv"
   ]
  },
  {
   "cell_type": "code",
   "execution_count": 2,
   "metadata": {},
   "outputs": [],
   "source": [
    "video_name = \"summary_e619a81ff91bcf8ebc69d0763ab32681#201008230800.avi\"\n",
    "txt_name = \"e619a81ff91bcf8ebc69d0763ab32681#201008230800.txt\"\n",
    "csv_name = \"data_siteHoBiHu_camera1_201008230800.csv\"\n",
    "npy_name = \"e619a81ff91bcf8ebc69d0763ab32681#201008230800.RESULT.npy\"\n",
    "yhat_name = \"e619a81ff91bcf8ebc69d0763ab32681#201008230800.YHAT.npy\"\n",
    "frame_info_name = \"frame_info_e619a81ff91bcf8ebc69d0763ab32681#201008230800.txt\""
   ]
  },
  {
   "cell_type": "code",
   "execution_count": 110,
   "metadata": {},
   "outputs": [],
   "source": []
  },
  {
   "cell_type": "code",
   "execution_count": null,
   "metadata": {},
   "outputs": [],
   "source": []
  },
  {
   "cell_type": "code",
   "execution_count": 78,
   "metadata": {},
   "outputs": [],
   "source": [
    "# create a dataframe from csv file\n",
    "def create_frame(file):\n",
    "    df = pd.read_csv(file)\n",
    "    return df\n",
    "\n",
    "# create readable structure from txt file\n",
    "def create_frame_info(fi_name):\n",
    "    with open(fi_name) as f:\n",
    "        frame_info = f.readlines()\n",
    "    return frame_info\n",
    "\n",
    "# create a list of ids present in a readable structure\n",
    "def get_ids_from_txt(frame_info):\n",
    "    ids = []\n",
    "    for line in frame_info:\n",
    "        a, rest = line.split(\",\", 1)\n",
    "        ids.append(int(a))\n",
    "    return(ids)\n",
    "\n",
    "# get IDs from dataframe\n",
    "def get_ids_from_frame(frame):\n",
    "    return frame['detection_id'].tolist()\n",
    "\n",
    "#get set difference\n",
    "def get_difference(a, b):\n",
    "    return list(set(a).difference(set(b)))\n",
    "\n",
    "def remove_rows(dframe, idlist):\n",
    "    dframe = dframe.set_index(\"detection_id\")\n",
    "    dframe = dframe.drop(idlist, axis=0)\n",
    "    return dframe\n",
    "\n",
    "def clean_csv(csvfile, fifile):\n",
    "    dframe = create_frame(csvfile)\n",
    "    print(\"Created dataframe with {:d} rows.\".format(dframe.shape[0]))\n",
    "    frame_info = create_frame_info(fifile)\n",
    "    print(\"Created frameinfo file with {:d} rows.\".format(len(frame_info)))\n",
    "    csvids = get_ids_from_frame(dframe)\n",
    "    fiids = get_ids_from_txt(frame_info)\n",
    "    diff = get_difference(csvids, fiids)\n",
    "    final_frame = remove_rows(dframe, diff)\n",
    "    print(\"Removed {:d} rows from dataframe. Final row count is {:d}.\".format(len(diff), final_frame.shape[0]))\n",
    "    return final_frame\n",
    "\n",
    "def create_npy_array(npy_file):\n",
    "    return np.load(npy_file)\n",
    "\n",
    "# get all points from a contour and store as a list of tuples\n",
    "def get_contour_points(contour):\n",
    "    cont = contour[2:-1]\n",
    "    tuples = cont.split(\";\")\n",
    "    l = []\n",
    "    for item in tuples:\n",
    "        a, b = item.split(\" \")\n",
    "        l.append((int(a), int(b)))\n",
    "    return l\n",
    "\n",
    "# gets all contours form a dataframe. We can conveniently traverse this using detection id\n",
    "def get_contours(dataframe):\n",
    "    return dataframe[' contour']\n",
    "\n",
    "def process_batch(csvname, finame, npyname, vname):\n",
    "    a = clean_csv(csvname, finame)\n",
    "    truths = create_npy_array(npyname)\n",
    "    idx = get_frames_with_fish(vname, truths, a)\n",
    "    b = remove_rows_by_index(a, idx)\n",
    "    return b\n",
    "\n",
    "def get_frames_with_fish(vname, npy, dframe):\n",
    "    vidcap = cv2.VideoCapture(vname)\n",
    "    success,image = vidcap.read()\n",
    "    count = 0\n",
    "    rows_to_remove = []\n",
    "    frame = 0\n",
    "    while success:\n",
    "        if (npy[count]):\n",
    "            cv2.imwrite(\"frame%d.jpg\" % frame, image)     # save frame as JPEG file\n",
    "            frame+= 1\n",
    "        else:\n",
    "            rows_to_remove.append(count)\n",
    "        success,image = vidcap.read()\n",
    "        count += 1\n",
    "    return rows_to_remove\n",
    "\n",
    "def remove_rows_by_index(dframe, idxlist):\n",
    "    return dframe.drop(dframe.index[idxlist])\n",
    "   \n",
    "def get_points_from_contour(contour):\n",
    "    cont = contour[2:-1]\n",
    "    tuples = cont.split(\";\")\n",
    "    final = []\n",
    "    for item in tuples:\n",
    "        (x, y) = item.split(\" \")\n",
    "        print(x,y)\n",
    "        final.append([(x, y)])\n",
    "    return final\n",
    "\n",
    "def get_frame_count(video):\n",
    "    vidcap = cv2.VideoCapture(video)\n",
    "    success, image = vidcap.read()\n",
    "    count = 0\n",
    "    while success:\n",
    "        success, image = vidcap.read()\n",
    "        count += 1\n",
    "    return count"
   ]
  },
  {
   "cell_type": "code",
   "execution_count": null,
   "metadata": {},
   "outputs": [],
   "source": []
  },
  {
   "cell_type": "code",
   "execution_count": null,
   "metadata": {},
   "outputs": [],
   "source": []
  },
  {
   "cell_type": "code",
   "execution_count": null,
   "metadata": {},
   "outputs": [],
   "source": []
  },
  {
   "cell_type": "code",
   "execution_count": null,
   "metadata": {},
   "outputs": [],
   "source": []
  },
  {
   "cell_type": "code",
   "execution_count": 187,
   "metadata": {},
   "outputs": [
    {
     "name": "stdout",
     "output_type": "stream",
     "text": [
      "Created dataframe with 21 rows.\n",
      "Created frameinfo file with 16 rows.\n",
      "Removed 5 rows from dataframe. Final row count is 16.\n",
      "[432533639, 432533642, 432533647]\n"
     ]
    }
   ],
   "source": [
    "hah = process_batch(csv_name, frame_info_name, npy_name, video_name)\n",
    "indices = hah.index.tolist()\n",
    "print(indices)"
   ]
  },
  {
   "cell_type": "code",
   "execution_count": 7,
   "metadata": {},
   "outputs": [],
   "source": [
    "contours = get_contours(hah).tolist()"
   ]
  },
  {
   "cell_type": "code",
   "execution_count": 190,
   "metadata": {},
   "outputs": [],
   "source": [
    "def get_metadata(dframe):\n",
    "    df = pd.DataFrame(columns=[' fish_id', ' video_id', ' bounding_box_x', ' bounding_box_y', ' specie_id', \n",
    "                               ' contour'])\n",
    "    indices = dframe.index.tolist()\n",
    "    for i, idx in enumerate(indices):\n",
    "        row = dframe.loc[idx]\n",
    "        fid = row[' fish_id']\n",
    "        vid = row[' video_id']\n",
    "        bbx = row[' bounding_box_x']\n",
    "        bby = row[' bounding_box_y']\n",
    "        sid = row[' specie_id']\n",
    "        contour = row[' contour']\n",
    "        df.loc[idx] = [fid, vid, bbx, bby, sid, contour]\n",
    "        \n",
    "    return df"
   ]
  },
  {
   "cell_type": "code",
   "execution_count": 191,
   "metadata": {},
   "outputs": [
    {
     "name": "stdout",
     "output_type": "stream",
     "text": [
      "            fish_id                                        video_id  \\\n",
      "432533639  38529590   e619a81ff91bcf8ebc69d0763ab32681#201008230800   \n",
      "432533642  38529590   e619a81ff91bcf8ebc69d0763ab32681#201008230800   \n",
      "432533647  38529590   e619a81ff91bcf8ebc69d0763ab32681#201008230800   \n",
      "\n",
      "           bounding_box_x  bounding_box_y  specie_id  \\\n",
      "432533639              91             108          0   \n",
      "432533642             123              88          0   \n",
      "432533647             256              27          0   \n",
      "\n",
      "                                                     contour  \n",
      "432533639   [123 108;124 108;125 108;126 108;127 108;128 ...  \n",
      "432533642   [177 88;178 88;179 88;180 88;181 88;182 88;18...  \n",
      "432533647   [259 27;260 27;261 27;262 27;263 27;264 27;26...  \n"
     ]
    }
   ],
   "source": [
    "shrunk_csv = get_metadata(hah)\n",
    "print(shrunk_csv)"
   ]
  },
  {
   "cell_type": "code",
   "execution_count": 106,
   "metadata": {},
   "outputs": [],
   "source": [
    "def process_image(img_name, x, y, cont_points):\n",
    "    img = cv2.imread(img_name)\n",
    "    mask = np.zeros((100,100))\n",
    "    xdiff = x - 10\n",
    "    ydiff = y - 10\n",
    "    xs = []\n",
    "    ys = []\n",
    "    for (a,b) in cont_points:\n",
    "        v = a - xdiff\n",
    "        u = b - ydiff\n",
    "        xs.append(u)\n",
    "        ys.append(v)\n",
    "        img[u,v] = (0,0,255)\n",
    "        mask[u,v] = 1\n",
    "    return img, mask, xs, ys"
   ]
  },
  {
   "cell_type": "code",
   "execution_count": 200,
   "metadata": {},
   "outputs": [],
   "source": [
    "def produce_RGB_nRGB_avgs(shrunk_csv):\n",
    "    indices = shrunk_csv.index.tolist()\n",
    "    dframe = pd.DataFrame(columns=[\"B\", \"G\", \"R\", \"nB\", \"nG\", \"nR\"])\n",
    "    for idx, l in enumerate(indices):\n",
    "        # create contour points\n",
    "        contour = get_contour_points(shrunk_csv.loc[l][5])\n",
    "        # get bb starting point\n",
    "        x = shrunk_csv.loc[l][2]\n",
    "        y = shrunk_csv.loc[l][3]\n",
    "        # set name to pick correct image\n",
    "        imgname = \"frame\"+str(idx)+\".jpg\"\n",
    "        # process image\n",
    "        img, mask, xs, ys = process_image(imgname, x, y, contour)\n",
    "        # get average x and y coordinate of boundary\n",
    "        plt.imshow(img)\n",
    "        plt.show()\n",
    "        xavg = int(np.mean(xs))\n",
    "        yavg = int(np.mean(ys))\n",
    "        # set coordinates for CoM point\n",
    "        startpoint = (xavg, yavg)\n",
    "        # compute CoM-based shape\n",
    "        com(img, startpoint, mask)\n",
    "        # extract specific channels\n",
    "        channel0 = img[:,:,0]\n",
    "        channel1 = img[:,:,1]\n",
    "        channel2 = img[:,:,2]\n",
    "        # compute averages\n",
    "        c0avg = np.mean(mask*channel0)\n",
    "        c1avg = np.mean(mask*channel1)\n",
    "        c2avg = np.mean(mask*channel2)\n",
    "        # compute normalized image\n",
    "        normRGB = normalizedRGB(img)\n",
    "        # extract normalized RGB channels\n",
    "        normc0 = normRGB[:,:,0]\n",
    "        normc1 = normRGB[:,:,1]\n",
    "        normc2 = normRGB[:,:,2]\n",
    "        # compute averages\n",
    "        normc0avg = np.mean(mask*normc0)\n",
    "        normc1avg = np.mean(mask*normc1)\n",
    "        normc2avg = np.mean(mask*normc2)\n",
    "        # save to dataframe\n",
    "        dframe.loc[l] = [c0avg, c1avg, c2avg, normc0avg, normc1avg, normc2avg]\n",
    "        \n",
    "    return dframe"
   ]
  },
  {
   "cell_type": "code",
   "execution_count": 196,
   "metadata": {},
   "outputs": [
    {
     "name": "stdout",
     "output_type": "stream",
     "text": [
      "Created dataframe with 21 rows.\n",
      "Created frameinfo file with 16 rows.\n",
      "Removed 5 rows from dataframe. Final row count is 16.\n"
     ]
    },
    {
     "name": "stderr",
     "output_type": "stream",
     "text": [
      "/home/sam/anaconda3/envs/mlp/lib/python3.7/site-packages/ipykernel_launcher.py:6: RuntimeWarning: overflow encountered in ubyte_scalars\n",
      "  \n",
      "/home/sam/anaconda3/envs/mlp/lib/python3.7/site-packages/ipykernel_launcher.py:7: RuntimeWarning: divide by zero encountered in ubyte_scalars\n",
      "  import sys\n"
     ]
    },
    {
     "data": {
      "text/html": [
       "<div>\n",
       "<style scoped>\n",
       "    .dataframe tbody tr th:only-of-type {\n",
       "        vertical-align: middle;\n",
       "    }\n",
       "\n",
       "    .dataframe tbody tr th {\n",
       "        vertical-align: top;\n",
       "    }\n",
       "\n",
       "    .dataframe thead th {\n",
       "        text-align: right;\n",
       "    }\n",
       "</style>\n",
       "<table border=\"1\" class=\"dataframe\">\n",
       "  <thead>\n",
       "    <tr style=\"text-align: right;\">\n",
       "      <th></th>\n",
       "      <th>B</th>\n",
       "      <th>G</th>\n",
       "      <th>R</th>\n",
       "      <th>nB</th>\n",
       "      <th>nG</th>\n",
       "      <th>nR</th>\n",
       "    </tr>\n",
       "  </thead>\n",
       "  <tbody>\n",
       "    <tr>\n",
       "      <th>432533639</th>\n",
       "      <td>13.5459</td>\n",
       "      <td>14.2633</td>\n",
       "      <td>20.7507</td>\n",
       "      <td>0.0407</td>\n",
       "      <td>0.0521</td>\n",
       "      <td>0.0937</td>\n",
       "    </tr>\n",
       "    <tr>\n",
       "      <th>432533642</th>\n",
       "      <td>27.5157</td>\n",
       "      <td>28.3908</td>\n",
       "      <td>40.0698</td>\n",
       "      <td>0.1852</td>\n",
       "      <td>0.1872</td>\n",
       "      <td>0.3049</td>\n",
       "    </tr>\n",
       "    <tr>\n",
       "      <th>432533647</th>\n",
       "      <td>26.6130</td>\n",
       "      <td>26.7702</td>\n",
       "      <td>38.4985</td>\n",
       "      <td>0.1556</td>\n",
       "      <td>0.1572</td>\n",
       "      <td>0.2464</td>\n",
       "    </tr>\n",
       "  </tbody>\n",
       "</table>\n",
       "</div>"
      ],
      "text/plain": [
       "                 B        G        R      nB      nG      nR\n",
       "432533639  13.5459  14.2633  20.7507  0.0407  0.0521  0.0937\n",
       "432533642  27.5157  28.3908  40.0698  0.1852  0.1872  0.3049\n",
       "432533647  26.6130  26.7702  38.4985  0.1556  0.1572  0.2464"
      ]
     },
     "execution_count": 196,
     "metadata": {},
     "output_type": "execute_result"
    }
   ],
   "source": [
    "# full process for one batch\n",
    "full_df = process_batch(csv_name, frame_info_name, npy_name, video_name)\n"
   ]
  },
  {
   "cell_type": "code",
   "execution_count": 150,
   "metadata": {},
   "outputs": [
    {
     "name": "stdout",
     "output_type": "stream",
     "text": [
      "(100, 100)\n",
      "(100, 100, 3)\n",
      "[226 209 218]\n"
     ]
    }
   ],
   "source": [
    "metadata = get_metadata(full_df)\n"
   ]
  },
  {
   "cell_type": "code",
   "execution_count": 164,
   "metadata": {},
   "outputs": [
    {
     "name": "stderr",
     "output_type": "stream",
     "text": [
      "/home/sam/anaconda3/envs/mlp/lib/python3.7/site-packages/ipykernel_launcher.py:6: RuntimeWarning: overflow encountered in ubyte_scalars\n",
      "  \n",
      "/home/sam/anaconda3/envs/mlp/lib/python3.7/site-packages/ipykernel_launcher.py:7: RuntimeWarning: divide by zero encountered in ubyte_scalars\n",
      "  import sys\n",
      "Clipping input data to the valid range for imshow with RGB data ([0..1] for floats or [0..255] for integers).\n"
     ]
    },
    {
     "data": {
      "image/png": "[encoded data removed]",
      "text/plain": [
       "<Figure size 432x288 with 1 Axes>"
      ]
     },
     "metadata": {
      "needs_background": "light"
     },
     "output_type": "display_data"
    }
   ],
   "source": [
    "def normalizedRGB(img):\n",
    "    newimg=np.zeros((img.shape))\n",
    "    for i, row in enumerate(img):\n",
    "        for j, col in enumerate(row):\n",
    "            b,g,r = col\n",
    "            s = b+g+r\n",
    "            newimg[i,j] = (b//s), (g//s), (r//s)\n",
    "    return newimg        \n",
    "asdfg = normalizedRGB(img)\n",
    "plt.imshow(asdfg)\n",
    "plt.show()"
   ]
  },
  {
   "cell_type": "code",
   "execution_count": 116,
   "metadata": {},
   "outputs": [],
   "source": [
    "def com(img, startpoint, mask):\n",
    "    (xavg, yavg) = startpoint\n",
    "    \n",
    "    nextleft = (xavg, yavg-1)\n",
    "    nextright = (xavg, yavg+1)\n",
    "    nextup = (xavg+1, yavg)\n",
    "    nextdown = (xavg-1, yavg)\n",
    "    \n",
    "    if (mask[nextleft]==0):\n",
    "        mask[nextleft] = 1\n",
    "        com(img, nextleft, mask)\n",
    "    if (mask[nextright]==0):\n",
    "        mask[nextright] = 1\n",
    "        com(img, nextright, mask)\n",
    "    if (mask[nextup]==0):\n",
    "        mask[nextup] = 1\n",
    "        com(img, nextup, mask)\n",
    "    if (mask[nextdown]==0):\n",
    "        mask[nextdown] = 1\n",
    "        com(img, nextdown, mask)"
   ]
  },
  {
   "cell_type": "code",
   "execution_count": null,
   "metadata": {},
   "outputs": [],
   "source": []
  },
  {
   "cell_type": "code",
   "execution_count": 209,
   "metadata": {
    "scrolled": true
   },
   "outputs": [
    {
     "name": "stdout",
     "output_type": "stream",
     "text": [
      "Created dataframe with 21 rows.\n",
      "Created frameinfo file with 16 rows.\n",
      "Removed 5 rows from dataframe. Final row count is 16.\n"
     ]
    },
    {
     "data": {
      "text/html": [
       "<div>\n",
       "<style scoped>\n",
       "    .dataframe tbody tr th:only-of-type {\n",
       "        vertical-align: middle;\n",
       "    }\n",
       "\n",
       "    .dataframe tbody tr th {\n",
       "        vertical-align: top;\n",
       "    }\n",
       "\n",
       "    .dataframe thead th {\n",
       "        text-align: right;\n",
       "    }\n",
       "</style>\n",
       "<table border=\"1\" class=\"dataframe\">\n",
       "  <thead>\n",
       "    <tr style=\"text-align: right;\">\n",
       "      <th></th>\n",
       "      <th>detection_component_id</th>\n",
       "      <th>recognition_component_id</th>\n",
       "      <th>fish_id</th>\n",
       "      <th>video_id</th>\n",
       "      <th>frame_id</th>\n",
       "      <th>bounding_box_x</th>\n",
       "      <th>bounding_box_y</th>\n",
       "      <th>bounding_box_w</th>\n",
       "      <th>bounding_box_h</th>\n",
       "      <th>specie_id</th>\n",
       "      <th>det_certainty</th>\n",
       "      <th>track_certainty</th>\n",
       "      <th>rec_certainty</th>\n",
       "      <th>contour</th>\n",
       "    </tr>\n",
       "    <tr>\n",
       "      <th>detection_id</th>\n",
       "      <th></th>\n",
       "      <th></th>\n",
       "      <th></th>\n",
       "      <th></th>\n",
       "      <th></th>\n",
       "      <th></th>\n",
       "      <th></th>\n",
       "      <th></th>\n",
       "      <th></th>\n",
       "      <th></th>\n",
       "      <th></th>\n",
       "      <th></th>\n",
       "      <th></th>\n",
       "      <th></th>\n",
       "    </tr>\n",
       "  </thead>\n",
       "  <tbody>\n",
       "    <tr>\n",
       "      <th>432533639</th>\n",
       "      <td>129</td>\n",
       "      <td>136</td>\n",
       "      <td>38529590</td>\n",
       "      <td>e619a81ff91bcf8ebc69d0763ab32681#201008230800</td>\n",
       "      <td>1775</td>\n",
       "      <td>91</td>\n",
       "      <td>108</td>\n",
       "      <td>52</td>\n",
       "      <td>39</td>\n",
       "      <td>0</td>\n",
       "      <td>-1</td>\n",
       "      <td>-1</td>\n",
       "      <td>2.578500e-10</td>\n",
       "      <td>[123 108;124 108;125 108;126 108;127 108;128 ...</td>\n",
       "    </tr>\n",
       "    <tr>\n",
       "      <th>432533642</th>\n",
       "      <td>129</td>\n",
       "      <td>136</td>\n",
       "      <td>38529590</td>\n",
       "      <td>e619a81ff91bcf8ebc69d0763ab32681#201008230800</td>\n",
       "      <td>1778</td>\n",
       "      <td>123</td>\n",
       "      <td>88</td>\n",
       "      <td>77</td>\n",
       "      <td>51</td>\n",
       "      <td>0</td>\n",
       "      <td>-1</td>\n",
       "      <td>-1</td>\n",
       "      <td>2.616500e-07</td>\n",
       "      <td>[177 88;178 88;179 88;180 88;181 88;182 88;18...</td>\n",
       "    </tr>\n",
       "    <tr>\n",
       "      <th>432533647</th>\n",
       "      <td>129</td>\n",
       "      <td>136</td>\n",
       "      <td>38529590</td>\n",
       "      <td>e619a81ff91bcf8ebc69d0763ab32681#201008230800</td>\n",
       "      <td>1783</td>\n",
       "      <td>256</td>\n",
       "      <td>27</td>\n",
       "      <td>58</td>\n",
       "      <td>70</td>\n",
       "      <td>0</td>\n",
       "      <td>-1</td>\n",
       "      <td>-1</td>\n",
       "      <td>2.825500e-01</td>\n",
       "      <td>[259 27;260 27;261 27;262 27;263 27;264 27;26...</td>\n",
       "    </tr>\n",
       "  </tbody>\n",
       "</table>\n",
       "</div>"
      ],
      "text/plain": [
       "               detection_component_id   recognition_component_id   fish_id  \\\n",
       "detection_id                                                                 \n",
       "432533639                         129                        136  38529590   \n",
       "432533642                         129                        136  38529590   \n",
       "432533647                         129                        136  38529590   \n",
       "\n",
       "                                                    video_id   frame_id  \\\n",
       "detection_id                                                              \n",
       "432533639      e619a81ff91bcf8ebc69d0763ab32681#201008230800       1775   \n",
       "432533642      e619a81ff91bcf8ebc69d0763ab32681#201008230800       1778   \n",
       "432533647      e619a81ff91bcf8ebc69d0763ab32681#201008230800       1783   \n",
       "\n",
       "               bounding_box_x   bounding_box_y   bounding_box_w  \\\n",
       "detection_id                                                      \n",
       "432533639                  91              108               52   \n",
       "432533642                 123               88               77   \n",
       "432533647                 256               27               58   \n",
       "\n",
       "               bounding_box_h   specie_id   det_certainty   track_certainty  \\\n",
       "detection_id                                                                  \n",
       "432533639                  39           0              -1                -1   \n",
       "432533642                  51           0              -1                -1   \n",
       "432533647                  70           0              -1                -1   \n",
       "\n",
       "               rec_certainty  \\\n",
       "detection_id                   \n",
       "432533639       2.578500e-10   \n",
       "432533642       2.616500e-07   \n",
       "432533647       2.825500e-01   \n",
       "\n",
       "                                                        contour  \n",
       "detection_id                                                     \n",
       "432533639      [123 108;124 108;125 108;126 108;127 108;128 ...  \n",
       "432533642      [177 88;178 88;179 88;180 88;181 88;182 88;18...  \n",
       "432533647      [259 27;260 27;261 27;262 27;263 27;264 27;26...  "
      ]
     },
     "execution_count": 209,
     "metadata": {},
     "output_type": "execute_result"
    }
   ],
   "source": [
    "# full process for one batch\n",
    "full_df = process_batch(csv_name, frame_info_name, npy_name, video_name)\n",
    "full_df"
   ]
  },
  {
   "cell_type": "code",
   "execution_count": 210,
   "metadata": {
    "scrolled": true
   },
   "outputs": [
    {
     "data": {
      "text/html": [
       "<div>\n",
       "<style scoped>\n",
       "    .dataframe tbody tr th:only-of-type {\n",
       "        vertical-align: middle;\n",
       "    }\n",
       "\n",
       "    .dataframe tbody tr th {\n",
       "        vertical-align: top;\n",
       "    }\n",
       "\n",
       "    .dataframe thead th {\n",
       "        text-align: right;\n",
       "    }\n",
       "</style>\n",
       "<table border=\"1\" class=\"dataframe\">\n",
       "  <thead>\n",
       "    <tr style=\"text-align: right;\">\n",
       "      <th></th>\n",
       "      <th>fish_id</th>\n",
       "      <th>video_id</th>\n",
       "      <th>bounding_box_x</th>\n",
       "      <th>bounding_box_y</th>\n",
       "      <th>specie_id</th>\n",
       "      <th>contour</th>\n",
       "    </tr>\n",
       "  </thead>\n",
       "  <tbody>\n",
       "    <tr>\n",
       "      <th>432533639</th>\n",
       "      <td>38529590</td>\n",
       "      <td>e619a81ff91bcf8ebc69d0763ab32681#201008230800</td>\n",
       "      <td>91</td>\n",
       "      <td>108</td>\n",
       "      <td>0</td>\n",
       "      <td>[123 108;124 108;125 108;126 108;127 108;128 ...</td>\n",
       "    </tr>\n",
       "    <tr>\n",
       "      <th>432533642</th>\n",
       "      <td>38529590</td>\n",
       "      <td>e619a81ff91bcf8ebc69d0763ab32681#201008230800</td>\n",
       "      <td>123</td>\n",
       "      <td>88</td>\n",
       "      <td>0</td>\n",
       "      <td>[177 88;178 88;179 88;180 88;181 88;182 88;18...</td>\n",
       "    </tr>\n",
       "    <tr>\n",
       "      <th>432533647</th>\n",
       "      <td>38529590</td>\n",
       "      <td>e619a81ff91bcf8ebc69d0763ab32681#201008230800</td>\n",
       "      <td>256</td>\n",
       "      <td>27</td>\n",
       "      <td>0</td>\n",
       "      <td>[259 27;260 27;261 27;262 27;263 27;264 27;26...</td>\n",
       "    </tr>\n",
       "  </tbody>\n",
       "</table>\n",
       "</div>"
      ],
      "text/plain": [
       "            fish_id                                        video_id  \\\n",
       "432533639  38529590   e619a81ff91bcf8ebc69d0763ab32681#201008230800   \n",
       "432533642  38529590   e619a81ff91bcf8ebc69d0763ab32681#201008230800   \n",
       "432533647  38529590   e619a81ff91bcf8ebc69d0763ab32681#201008230800   \n",
       "\n",
       "           bounding_box_x  bounding_box_y  specie_id  \\\n",
       "432533639              91             108          0   \n",
       "432533642             123              88          0   \n",
       "432533647             256              27          0   \n",
       "\n",
       "                                                     contour  \n",
       "432533639   [123 108;124 108;125 108;126 108;127 108;128 ...  \n",
       "432533642   [177 88;178 88;179 88;180 88;181 88;182 88;18...  \n",
       "432533647   [259 27;260 27;261 27;262 27;263 27;264 27;26...  "
      ]
     },
     "execution_count": 210,
     "metadata": {},
     "output_type": "execute_result"
    }
   ],
   "source": [
    "metadata = get_metadata(full_df)\n",
    "metadata"
   ]
  },
  {
   "cell_type": "code",
   "execution_count": 211,
   "metadata": {
    "scrolled": true
   },
   "outputs": [
    {
     "data": {
      "image/png": "[encoded data removed]",
      "text/plain": [
       "<Figure size 432x288 with 1 Axes>"
      ]
     },
     "metadata": {
      "needs_background": "light"
     },
     "output_type": "display_data"
    },
    {
     "name": "stderr",
     "output_type": "stream",
     "text": [
      "/home/sam/anaconda3/envs/mlp/lib/python3.7/site-packages/ipykernel_launcher.py:6: RuntimeWarning: overflow encountered in ubyte_scalars\n",
      "  \n",
      "/home/sam/anaconda3/envs/mlp/lib/python3.7/site-packages/ipykernel_launcher.py:7: RuntimeWarning: divide by zero encountered in ubyte_scalars\n",
      "  import sys\n"
     ]
    },
    {
     "data": {
      "image/png": "[encoded data removed]",
      "text/plain": [
       "<Figure size 432x288 with 1 Axes>"
      ]
     },
     "metadata": {
      "needs_background": "light"
     },
     "output_type": "display_data"
    },
    {
     "data": {
      "image/png": "[encoded data removed]",
      "text/plain": [
       "<Figure size 432x288 with 1 Axes>"
      ]
     },
     "metadata": {
      "needs_background": "light"
     },
     "output_type": "display_data"
    },
    {
     "data": {
      "text/html": [
       "<div>\n",
       "<style scoped>\n",
       "    .dataframe tbody tr th:only-of-type {\n",
       "        vertical-align: middle;\n",
       "    }\n",
       "\n",
       "    .dataframe tbody tr th {\n",
       "        vertical-align: top;\n",
       "    }\n",
       "\n",
       "    .dataframe thead th {\n",
       "        text-align: right;\n",
       "    }\n",
       "</style>\n",
       "<table border=\"1\" class=\"dataframe\">\n",
       "  <thead>\n",
       "    <tr style=\"text-align: right;\">\n",
       "      <th></th>\n",
       "      <th>B</th>\n",
       "      <th>G</th>\n",
       "      <th>R</th>\n",
       "      <th>nB</th>\n",
       "      <th>nG</th>\n",
       "      <th>nR</th>\n",
       "    </tr>\n",
       "  </thead>\n",
       "  <tbody>\n",
       "    <tr>\n",
       "      <th>432533639</th>\n",
       "      <td>13.5459</td>\n",
       "      <td>14.2633</td>\n",
       "      <td>20.7507</td>\n",
       "      <td>0.0407</td>\n",
       "      <td>0.0521</td>\n",
       "      <td>0.0937</td>\n",
       "    </tr>\n",
       "    <tr>\n",
       "      <th>432533642</th>\n",
       "      <td>27.5157</td>\n",
       "      <td>28.3908</td>\n",
       "      <td>40.0698</td>\n",
       "      <td>0.1852</td>\n",
       "      <td>0.1872</td>\n",
       "      <td>0.3049</td>\n",
       "    </tr>\n",
       "    <tr>\n",
       "      <th>432533647</th>\n",
       "      <td>26.6130</td>\n",
       "      <td>26.7702</td>\n",
       "      <td>38.4985</td>\n",
       "      <td>0.1556</td>\n",
       "      <td>0.1572</td>\n",
       "      <td>0.2464</td>\n",
       "    </tr>\n",
       "  </tbody>\n",
       "</table>\n",
       "</div>"
      ],
      "text/plain": [
       "                 B        G        R      nB      nG      nR\n",
       "432533639  13.5459  14.2633  20.7507  0.0407  0.0521  0.0937\n",
       "432533642  27.5157  28.3908  40.0698  0.1852  0.1872  0.3049\n",
       "432533647  26.6130  26.7702  38.4985  0.1556  0.1572  0.2464"
      ]
     },
     "execution_count": 211,
     "metadata": {},
     "output_type": "execute_result"
    }
   ],
   "source": [
    "produce_RGB_nRGB_avgs(metadata)"
   ]
  },
  {
   "cell_type": "code",
   "execution_count": null,
   "metadata": {},
   "outputs": [],
   "source": []
  }
 ],
 "metadata": {
  "kernelspec": {
   "display_name": "Python 3",
   "language": "python",
   "name": "python3"
  },
  "language_info": {
   "codemirror_mode": {
    "name": "ipython",
    "version": 3
   },
   "file_extension": ".py",
   "mimetype": "text/x-python",
   "name": "python",
   "nbconvert_exporter": "python",
   "pygments_lexer": "ipython3",
   "version": "3.7.2"
  }
 },
 "nbformat": 4,
 "nbformat_minor": 4
}
